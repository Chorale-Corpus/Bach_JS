{
 "cells": [
  {
   "cell_type": "code",
   "execution_count": 3,
   "id": "initial_id",
   "metadata": {
    "collapsed": true,
    "ExecuteTime": {
     "end_time": "2025-02-16T16:39:31.953156337Z",
     "start_time": "2025-02-16T16:39:31.945540271Z"
    }
   },
   "outputs": [],
   "source": [
    "import ms3\n",
    "import pandas as pd"
   ]
  },
  {
   "cell_type": "code",
   "outputs": [
    {
     "data": {
      "text/plain": "  piece TimeSig KeySig last_mc last_mn length_qb last_mc_unfolded  \\\n0  B001  1: 4/4   1: 3      11      10      40.0               11   \n1  B002  1: 4/4   1: 0      12      11      44.0               12   \n2  B003  1: 4/4   1: 0       9       8      32.0                9   \n3  B004  1: 4/4  1: -2      11      10      40.0               11   \n4  B005  1: 4/4   1: 1      12      10      40.0               17   \n\n  last_mn_unfolded length_qb_unfolded volta_mcs  ... originalFormat  \\\n0               10               40.0      <NA>  ...           <NA>   \n1               11               44.0      <NA>  ...            xml   \n2                8               32.0      <NA>  ...           <NA>   \n3               10               40.0      <NA>  ...           <NA>   \n4               14               56.0      <NA>  ...           <NA>   \n\n  staff_1_instrument staff_1_ambitus staff_2_instrument staff_2_ambitus  \\\n0       Soprano/Alto  61-76 (C#4-E5)         Tenor/Bass   45-64 (A2-E4)   \n1       Soprano/Alto  53-70 (F3-Bb4)         Tenor/Bass   38-62 (D2-D4)   \n2       Soprano/Alto   60-77 (C4-F5)         Tenor/Bass   43-67 (G2-G4)   \n3       Soprano/Alto   60-74 (C4-D5)         Tenor/Bass   41-67 (F2-G4)   \n4       Soprano/Alto   57-76 (A3-E5)         Tenor/Bass   45-65 (A2-F4)   \n\n  staff_3_instrument staff_3_ambitus staff_4_instrument staff_4_ambitus  \\\n0               <NA>            <NA>               <NA>            <NA>   \n1               <NA>            <NA>               <NA>            <NA>   \n2               <NA>            <NA>               <NA>            <NA>   \n3               <NA>            <NA>               <NA>            <NA>   \n4               <NA>            <NA>               <NA>            <NA>   \n\n                            musicbrainz  \n0  cf3c6c44-c55e-4ac4-b1b7-891bc016b5a6  \n1  222be889-65eb-3bb8-9135-1634a0852f2d  \n2  7bc21c94-bca6-31ee-b26e-e97988910821  \n3  3764b6f2-375c-344e-914c-94d169261e39  \n4  b1d331a0-dd77-3074-8ca8-477c3fb3a1bc  \n\n[5 rows x 50 columns]",
      "text/html": "<div>\n<style scoped>\n    .dataframe tbody tr th:only-of-type {\n        vertical-align: middle;\n    }\n\n    .dataframe tbody tr th {\n        vertical-align: top;\n    }\n\n    .dataframe thead th {\n        text-align: right;\n    }\n</style>\n<table border=\"1\" class=\"dataframe\">\n  <thead>\n    <tr style=\"text-align: right;\">\n      <th></th>\n      <th>piece</th>\n      <th>TimeSig</th>\n      <th>KeySig</th>\n      <th>last_mc</th>\n      <th>last_mn</th>\n      <th>length_qb</th>\n      <th>last_mc_unfolded</th>\n      <th>last_mn_unfolded</th>\n      <th>length_qb_unfolded</th>\n      <th>volta_mcs</th>\n      <th>...</th>\n      <th>originalFormat</th>\n      <th>staff_1_instrument</th>\n      <th>staff_1_ambitus</th>\n      <th>staff_2_instrument</th>\n      <th>staff_2_ambitus</th>\n      <th>staff_3_instrument</th>\n      <th>staff_3_ambitus</th>\n      <th>staff_4_instrument</th>\n      <th>staff_4_ambitus</th>\n      <th>musicbrainz</th>\n    </tr>\n  </thead>\n  <tbody>\n    <tr>\n      <th>0</th>\n      <td>B001</td>\n      <td>1: 4/4</td>\n      <td>1: 3</td>\n      <td>11</td>\n      <td>10</td>\n      <td>40.0</td>\n      <td>11</td>\n      <td>10</td>\n      <td>40.0</td>\n      <td>&lt;NA&gt;</td>\n      <td>...</td>\n      <td>&lt;NA&gt;</td>\n      <td>Soprano/Alto</td>\n      <td>61-76 (C#4-E5)</td>\n      <td>Tenor/Bass</td>\n      <td>45-64 (A2-E4)</td>\n      <td>&lt;NA&gt;</td>\n      <td>&lt;NA&gt;</td>\n      <td>&lt;NA&gt;</td>\n      <td>&lt;NA&gt;</td>\n      <td>cf3c6c44-c55e-4ac4-b1b7-891bc016b5a6</td>\n    </tr>\n    <tr>\n      <th>1</th>\n      <td>B002</td>\n      <td>1: 4/4</td>\n      <td>1: 0</td>\n      <td>12</td>\n      <td>11</td>\n      <td>44.0</td>\n      <td>12</td>\n      <td>11</td>\n      <td>44.0</td>\n      <td>&lt;NA&gt;</td>\n      <td>...</td>\n      <td>xml</td>\n      <td>Soprano/Alto</td>\n      <td>53-70 (F3-Bb4)</td>\n      <td>Tenor/Bass</td>\n      <td>38-62 (D2-D4)</td>\n      <td>&lt;NA&gt;</td>\n      <td>&lt;NA&gt;</td>\n      <td>&lt;NA&gt;</td>\n      <td>&lt;NA&gt;</td>\n      <td>222be889-65eb-3bb8-9135-1634a0852f2d</td>\n    </tr>\n    <tr>\n      <th>2</th>\n      <td>B003</td>\n      <td>1: 4/4</td>\n      <td>1: 0</td>\n      <td>9</td>\n      <td>8</td>\n      <td>32.0</td>\n      <td>9</td>\n      <td>8</td>\n      <td>32.0</td>\n      <td>&lt;NA&gt;</td>\n      <td>...</td>\n      <td>&lt;NA&gt;</td>\n      <td>Soprano/Alto</td>\n      <td>60-77 (C4-F5)</td>\n      <td>Tenor/Bass</td>\n      <td>43-67 (G2-G4)</td>\n      <td>&lt;NA&gt;</td>\n      <td>&lt;NA&gt;</td>\n      <td>&lt;NA&gt;</td>\n      <td>&lt;NA&gt;</td>\n      <td>7bc21c94-bca6-31ee-b26e-e97988910821</td>\n    </tr>\n    <tr>\n      <th>3</th>\n      <td>B004</td>\n      <td>1: 4/4</td>\n      <td>1: -2</td>\n      <td>11</td>\n      <td>10</td>\n      <td>40.0</td>\n      <td>11</td>\n      <td>10</td>\n      <td>40.0</td>\n      <td>&lt;NA&gt;</td>\n      <td>...</td>\n      <td>&lt;NA&gt;</td>\n      <td>Soprano/Alto</td>\n      <td>60-74 (C4-D5)</td>\n      <td>Tenor/Bass</td>\n      <td>41-67 (F2-G4)</td>\n      <td>&lt;NA&gt;</td>\n      <td>&lt;NA&gt;</td>\n      <td>&lt;NA&gt;</td>\n      <td>&lt;NA&gt;</td>\n      <td>3764b6f2-375c-344e-914c-94d169261e39</td>\n    </tr>\n    <tr>\n      <th>4</th>\n      <td>B005</td>\n      <td>1: 4/4</td>\n      <td>1: 1</td>\n      <td>12</td>\n      <td>10</td>\n      <td>40.0</td>\n      <td>17</td>\n      <td>14</td>\n      <td>56.0</td>\n      <td>&lt;NA&gt;</td>\n      <td>...</td>\n      <td>&lt;NA&gt;</td>\n      <td>Soprano/Alto</td>\n      <td>57-76 (A3-E5)</td>\n      <td>Tenor/Bass</td>\n      <td>45-65 (A2-F4)</td>\n      <td>&lt;NA&gt;</td>\n      <td>&lt;NA&gt;</td>\n      <td>&lt;NA&gt;</td>\n      <td>&lt;NA&gt;</td>\n      <td>b1d331a0-dd77-3074-8ca8-477c3fb3a1bc</td>\n    </tr>\n  </tbody>\n</table>\n<p>5 rows × 50 columns</p>\n</div>"
     },
     "execution_count": 11,
     "metadata": {},
     "output_type": "execute_result"
    }
   ],
   "source": [
    "vpo = pd.read_csv(\"vocal_parts_only/metadata.tsv\", sep=\"\\t\", dtype=\"string\")\n",
    "vpo.head()"
   ],
   "metadata": {
    "collapsed": false,
    "ExecuteTime": {
     "end_time": "2025-02-16T16:45:25.689243571Z",
     "start_time": "2025-02-16T16:45:25.646508563Z"
    }
   },
   "id": "b77285801d986a89",
   "execution_count": 11
  },
  {
   "cell_type": "code",
   "outputs": [
    {
     "data": {
      "text/plain": "  cd track                                        track_title  \\\n0  5     1         Ach bleib bei uns, Herr Jesu Christ BWV253   \n1  5     2              Ach Gott, erhör. mein Seufzen! BWV254   \n2  5     3                           Ach Gott und Herr BWV255   \n3  5     4  Ach Gott, vom Himmel sieh. darein (Cantata BWV...   \n4  4     1   Ach Gott, vom Himmel sieh. darein (Cantata BWV2)   \n\n                                     recording_title chorale  \\\n0       Ach bleib bei uns, Herr Jesu Christ, BWV 253       1   \n1            Ach Gott, erhör' mein Seufzen!, BWV 254       2   \n2                         Ach Gott und Herr, BWV 255       3   \n3  Ach Gott, vom Himmel sieh' darein, Cantata BWV...       5   \n4   Ach Gott, vom Himmel sieh' darein, Cantata BWV 2       7   \n\n                           recording_id Unnamed: 6 cd.1 track.1  \\\n0  688b2af6-8cbd-487c-bfb8-b36a6517dfc5       <NA>    2     101   \n1  3ddc5341-a4b8-4124-a9bd-4f7da057bf8a       <NA>    2     102   \n2  bd76aab5-038c-40d5-a878-862862fab963       <NA>    3       1   \n3  800bbab5-df54-456b-b7f9-c49508e325f6       <NA>    3       2   \n4  63347767-8bd5-4f11-9c1a-42ee65125b00       <NA>    2      44   \n\n                                 title  ... Speech Live Loud (Db)  \\\n0  Ach bleib bei uns, Herr Jesu Christ  ...      0   10       -26   \n1       Ach Gott, erhör' mein Seufzen!  ...      0   10       -21   \n2                    Ach Gott und Herr  ...      0   10       -18   \n3    Ach Gott, vom Himmel sieh' darein  ...      0   30       -17   \n4    Ach Gott, vom Himmel sieh' darein  ...      0   10       -20   \n\n           Key Time Signature    Added At        Spotify Track Id Album Label  \\\n0  G#/A♭ Major              3  2024-07-26  3uw0vLx9Q0bdD3D53A2hoO   undefined   \n1  C♯/D♭ Minor              3  2024-07-26  3HBDYXXDVWjQfKlGMcp0Mu   undefined   \n2  F#/G♭ Major              4  2024-07-26  6Fcr1DvpcOaOKNss0AIqZg   undefined   \n3  G#/A♭ Minor              4  2024-07-26  5pyaL5Dv4mNzlqQdoNvEWL   undefined   \n4      B Minor              4  2024-07-26  1fKptPS3ovYWGSx2fqYKBH   undefined   \n\n  Camelot          ISRC  \n0      4B  NLY331107239  \n1     12A  NLY331107240  \n2      2B  NLY331107241  \n3      1A  NLY331107242  \n4     10A  NLY331107182  \n\n[5 rows x 37 columns]",
      "text/html": "<div>\n<style scoped>\n    .dataframe tbody tr th:only-of-type {\n        vertical-align: middle;\n    }\n\n    .dataframe tbody tr th {\n        vertical-align: top;\n    }\n\n    .dataframe thead th {\n        text-align: right;\n    }\n</style>\n<table border=\"1\" class=\"dataframe\">\n  <thead>\n    <tr style=\"text-align: right;\">\n      <th></th>\n      <th>cd</th>\n      <th>track</th>\n      <th>track_title</th>\n      <th>recording_title</th>\n      <th>chorale</th>\n      <th>recording_id</th>\n      <th>Unnamed: 6</th>\n      <th>cd.1</th>\n      <th>track.1</th>\n      <th>title</th>\n      <th>...</th>\n      <th>Speech</th>\n      <th>Live</th>\n      <th>Loud (Db)</th>\n      <th>Key</th>\n      <th>Time Signature</th>\n      <th>Added At</th>\n      <th>Spotify Track Id</th>\n      <th>Album Label</th>\n      <th>Camelot</th>\n      <th>ISRC</th>\n    </tr>\n  </thead>\n  <tbody>\n    <tr>\n      <th>0</th>\n      <td>5</td>\n      <td>1</td>\n      <td>Ach bleib bei uns, Herr Jesu Christ BWV253</td>\n      <td>Ach bleib bei uns, Herr Jesu Christ, BWV 253</td>\n      <td>1</td>\n      <td>688b2af6-8cbd-487c-bfb8-b36a6517dfc5</td>\n      <td>&lt;NA&gt;</td>\n      <td>2</td>\n      <td>101</td>\n      <td>Ach bleib bei uns, Herr Jesu Christ</td>\n      <td>...</td>\n      <td>0</td>\n      <td>10</td>\n      <td>-26</td>\n      <td>G#/A♭ Major</td>\n      <td>3</td>\n      <td>2024-07-26</td>\n      <td>3uw0vLx9Q0bdD3D53A2hoO</td>\n      <td>undefined</td>\n      <td>4B</td>\n      <td>NLY331107239</td>\n    </tr>\n    <tr>\n      <th>1</th>\n      <td>5</td>\n      <td>2</td>\n      <td>Ach Gott, erhör. mein Seufzen! BWV254</td>\n      <td>Ach Gott, erhör' mein Seufzen!, BWV 254</td>\n      <td>2</td>\n      <td>3ddc5341-a4b8-4124-a9bd-4f7da057bf8a</td>\n      <td>&lt;NA&gt;</td>\n      <td>2</td>\n      <td>102</td>\n      <td>Ach Gott, erhör' mein Seufzen!</td>\n      <td>...</td>\n      <td>0</td>\n      <td>10</td>\n      <td>-21</td>\n      <td>C♯/D♭ Minor</td>\n      <td>3</td>\n      <td>2024-07-26</td>\n      <td>3HBDYXXDVWjQfKlGMcp0Mu</td>\n      <td>undefined</td>\n      <td>12A</td>\n      <td>NLY331107240</td>\n    </tr>\n    <tr>\n      <th>2</th>\n      <td>5</td>\n      <td>3</td>\n      <td>Ach Gott und Herr BWV255</td>\n      <td>Ach Gott und Herr, BWV 255</td>\n      <td>3</td>\n      <td>bd76aab5-038c-40d5-a878-862862fab963</td>\n      <td>&lt;NA&gt;</td>\n      <td>3</td>\n      <td>1</td>\n      <td>Ach Gott und Herr</td>\n      <td>...</td>\n      <td>0</td>\n      <td>10</td>\n      <td>-18</td>\n      <td>F#/G♭ Major</td>\n      <td>4</td>\n      <td>2024-07-26</td>\n      <td>6Fcr1DvpcOaOKNss0AIqZg</td>\n      <td>undefined</td>\n      <td>2B</td>\n      <td>NLY331107241</td>\n    </tr>\n    <tr>\n      <th>3</th>\n      <td>5</td>\n      <td>4</td>\n      <td>Ach Gott, vom Himmel sieh. darein (Cantata BWV...</td>\n      <td>Ach Gott, vom Himmel sieh' darein, Cantata BWV...</td>\n      <td>5</td>\n      <td>800bbab5-df54-456b-b7f9-c49508e325f6</td>\n      <td>&lt;NA&gt;</td>\n      <td>3</td>\n      <td>2</td>\n      <td>Ach Gott, vom Himmel sieh' darein</td>\n      <td>...</td>\n      <td>0</td>\n      <td>30</td>\n      <td>-17</td>\n      <td>G#/A♭ Minor</td>\n      <td>4</td>\n      <td>2024-07-26</td>\n      <td>5pyaL5Dv4mNzlqQdoNvEWL</td>\n      <td>undefined</td>\n      <td>1A</td>\n      <td>NLY331107242</td>\n    </tr>\n    <tr>\n      <th>4</th>\n      <td>4</td>\n      <td>1</td>\n      <td>Ach Gott, vom Himmel sieh. darein (Cantata BWV2)</td>\n      <td>Ach Gott, vom Himmel sieh' darein, Cantata BWV 2</td>\n      <td>7</td>\n      <td>63347767-8bd5-4f11-9c1a-42ee65125b00</td>\n      <td>&lt;NA&gt;</td>\n      <td>2</td>\n      <td>44</td>\n      <td>Ach Gott, vom Himmel sieh' darein</td>\n      <td>...</td>\n      <td>0</td>\n      <td>10</td>\n      <td>-20</td>\n      <td>B Minor</td>\n      <td>4</td>\n      <td>2024-07-26</td>\n      <td>1fKptPS3ovYWGSx2fqYKBH</td>\n      <td>undefined</td>\n      <td>10A</td>\n      <td>NLY331107182</td>\n    </tr>\n  </tbody>\n</table>\n<p>5 rows × 37 columns</p>\n</div>"
     },
     "execution_count": 12,
     "metadata": {},
     "output_type": "execute_result"
    }
   ],
   "source": [
    "aligned = pd.read_csv(\"musicbrainz_spotify_aligned.tsv\", sep=\"\\t\", dtype=\"string\")\n",
    "aligned.head()"
   ],
   "metadata": {
    "collapsed": false,
    "ExecuteTime": {
     "end_time": "2025-02-16T16:45:26.589594478Z",
     "start_time": "2025-02-16T16:45:26.554583864Z"
    }
   },
   "id": "c1259d56fcbf5471",
   "execution_count": 12
  },
  {
   "cell_type": "code",
   "outputs": [],
   "source": [
    "select_columns = {\n",
    "    \"recording_id\": \"mb:recording\",\n",
    "    \"chorale\": \"chorale\",\n",
    "    \"Spotify Track Id\": \"spotify\",\n",
    "    \"ISRC\": \"ISRC\"\n",
    "}\n",
    "aligned_copy = aligned[select_columns.keys()].rename(columns=select_columns)\n",
    "merge = pd.merge(vpo, aligned_copy, left_on=\"movementNumber\", right_on=\"chorale\", how=\"outer\").drop(columns=\"chorale\")\n",
    "merge.to_csv(\"vocal_parts_only/metadata.tsv\", sep=\"\\t\", index=False)"
   ],
   "metadata": {
    "collapsed": false,
    "ExecuteTime": {
     "end_time": "2025-02-16T17:01:08.511624349Z",
     "start_time": "2025-02-16T17:01:08.469191350Z"
    }
   },
   "id": "dc88061cf291356f",
   "execution_count": 19
  },
  {
   "cell_type": "code",
   "outputs": [
    {
     "data": {
      "text/plain": "  piece TimeSig KeySig last_mc last_mn length_qb last_mc_unfolded  \\\n0  B001  1: 4/4   1: 3      11      10      40.0               11   \n1  B002  1: 4/4   1: 0      12      11      44.0               12   \n2  B003  1: 4/4   1: 0       9       8      32.0                9   \n3  B004  1: 4/4  1: -2      11      10      40.0               11   \n4  B005  1: 4/4   1: 1      12      10      40.0               17   \n\n  last_mn_unfolded length_qb_unfolded volta_mcs  ... staff_19_ambitus  \\\n0               10               40.0      <NA>  ...             <NA>   \n1               11               44.0      <NA>  ...             <NA>   \n2                8               32.0      <NA>  ...             <NA>   \n3               10               40.0      <NA>  ...             <NA>   \n4               14               56.0      <NA>  ...             <NA>   \n\n  staff_20_instrument staff_20_ambitus staff_21_instrument staff_21_ambitus  \\\n0                <NA>             <NA>                <NA>             <NA>   \n1                <NA>             <NA>                <NA>             <NA>   \n2                <NA>             <NA>                <NA>             <NA>   \n3                <NA>             <NA>                <NA>             <NA>   \n4                <NA>             <NA>                <NA>             <NA>   \n\n  staff_22_instrument staff_22_ambitus staff_23_instrument staff_23_ambitus  \\\n0                <NA>             <NA>                <NA>             <NA>   \n1                <NA>             <NA>                <NA>             <NA>   \n2                <NA>             <NA>                <NA>             <NA>   \n3                <NA>             <NA>                <NA>             <NA>   \n4                <NA>             <NA>                <NA>             <NA>   \n\n                            musicbrainz  \n0  cf3c6c44-c55e-4ac4-b1b7-891bc016b5a6  \n1  222be889-65eb-3bb8-9135-1634a0852f2d  \n2  7bc21c94-bca6-31ee-b26e-e97988910821  \n3  3764b6f2-375c-344e-914c-94d169261e39  \n4  b1d331a0-dd77-3074-8ca8-477c3fb3a1bc  \n\n[5 rows x 90 columns]",
      "text/html": "<div>\n<style scoped>\n    .dataframe tbody tr th:only-of-type {\n        vertical-align: middle;\n    }\n\n    .dataframe tbody tr th {\n        vertical-align: top;\n    }\n\n    .dataframe thead th {\n        text-align: right;\n    }\n</style>\n<table border=\"1\" class=\"dataframe\">\n  <thead>\n    <tr style=\"text-align: right;\">\n      <th></th>\n      <th>piece</th>\n      <th>TimeSig</th>\n      <th>KeySig</th>\n      <th>last_mc</th>\n      <th>last_mn</th>\n      <th>length_qb</th>\n      <th>last_mc_unfolded</th>\n      <th>last_mn_unfolded</th>\n      <th>length_qb_unfolded</th>\n      <th>volta_mcs</th>\n      <th>...</th>\n      <th>staff_19_ambitus</th>\n      <th>staff_20_instrument</th>\n      <th>staff_20_ambitus</th>\n      <th>staff_21_instrument</th>\n      <th>staff_21_ambitus</th>\n      <th>staff_22_instrument</th>\n      <th>staff_22_ambitus</th>\n      <th>staff_23_instrument</th>\n      <th>staff_23_ambitus</th>\n      <th>musicbrainz</th>\n    </tr>\n  </thead>\n  <tbody>\n    <tr>\n      <th>0</th>\n      <td>B001</td>\n      <td>1: 4/4</td>\n      <td>1: 3</td>\n      <td>11</td>\n      <td>10</td>\n      <td>40.0</td>\n      <td>11</td>\n      <td>10</td>\n      <td>40.0</td>\n      <td>&lt;NA&gt;</td>\n      <td>...</td>\n      <td>&lt;NA&gt;</td>\n      <td>&lt;NA&gt;</td>\n      <td>&lt;NA&gt;</td>\n      <td>&lt;NA&gt;</td>\n      <td>&lt;NA&gt;</td>\n      <td>&lt;NA&gt;</td>\n      <td>&lt;NA&gt;</td>\n      <td>&lt;NA&gt;</td>\n      <td>&lt;NA&gt;</td>\n      <td>cf3c6c44-c55e-4ac4-b1b7-891bc016b5a6</td>\n    </tr>\n    <tr>\n      <th>1</th>\n      <td>B002</td>\n      <td>1: 4/4</td>\n      <td>1: 0</td>\n      <td>12</td>\n      <td>11</td>\n      <td>44.0</td>\n      <td>12</td>\n      <td>11</td>\n      <td>44.0</td>\n      <td>&lt;NA&gt;</td>\n      <td>...</td>\n      <td>&lt;NA&gt;</td>\n      <td>&lt;NA&gt;</td>\n      <td>&lt;NA&gt;</td>\n      <td>&lt;NA&gt;</td>\n      <td>&lt;NA&gt;</td>\n      <td>&lt;NA&gt;</td>\n      <td>&lt;NA&gt;</td>\n      <td>&lt;NA&gt;</td>\n      <td>&lt;NA&gt;</td>\n      <td>222be889-65eb-3bb8-9135-1634a0852f2d</td>\n    </tr>\n    <tr>\n      <th>2</th>\n      <td>B003</td>\n      <td>1: 4/4</td>\n      <td>1: 0</td>\n      <td>9</td>\n      <td>8</td>\n      <td>32.0</td>\n      <td>9</td>\n      <td>8</td>\n      <td>32.0</td>\n      <td>&lt;NA&gt;</td>\n      <td>...</td>\n      <td>&lt;NA&gt;</td>\n      <td>&lt;NA&gt;</td>\n      <td>&lt;NA&gt;</td>\n      <td>&lt;NA&gt;</td>\n      <td>&lt;NA&gt;</td>\n      <td>&lt;NA&gt;</td>\n      <td>&lt;NA&gt;</td>\n      <td>&lt;NA&gt;</td>\n      <td>&lt;NA&gt;</td>\n      <td>7bc21c94-bca6-31ee-b26e-e97988910821</td>\n    </tr>\n    <tr>\n      <th>3</th>\n      <td>B004</td>\n      <td>1: 4/4</td>\n      <td>1: -2</td>\n      <td>11</td>\n      <td>10</td>\n      <td>40.0</td>\n      <td>11</td>\n      <td>10</td>\n      <td>40.0</td>\n      <td>&lt;NA&gt;</td>\n      <td>...</td>\n      <td>&lt;NA&gt;</td>\n      <td>&lt;NA&gt;</td>\n      <td>&lt;NA&gt;</td>\n      <td>&lt;NA&gt;</td>\n      <td>&lt;NA&gt;</td>\n      <td>&lt;NA&gt;</td>\n      <td>&lt;NA&gt;</td>\n      <td>&lt;NA&gt;</td>\n      <td>&lt;NA&gt;</td>\n      <td>3764b6f2-375c-344e-914c-94d169261e39</td>\n    </tr>\n    <tr>\n      <th>4</th>\n      <td>B005</td>\n      <td>1: 4/4</td>\n      <td>1: 1</td>\n      <td>12</td>\n      <td>10</td>\n      <td>40.0</td>\n      <td>17</td>\n      <td>14</td>\n      <td>56.0</td>\n      <td>&lt;NA&gt;</td>\n      <td>...</td>\n      <td>&lt;NA&gt;</td>\n      <td>&lt;NA&gt;</td>\n      <td>&lt;NA&gt;</td>\n      <td>&lt;NA&gt;</td>\n      <td>&lt;NA&gt;</td>\n      <td>&lt;NA&gt;</td>\n      <td>&lt;NA&gt;</td>\n      <td>&lt;NA&gt;</td>\n      <td>&lt;NA&gt;</td>\n      <td>b1d331a0-dd77-3074-8ca8-477c3fb3a1bc</td>\n    </tr>\n  </tbody>\n</table>\n<p>5 rows × 90 columns</p>\n</div>"
     },
     "execution_count": 31,
     "metadata": {},
     "output_type": "execute_result"
    }
   ],
   "source": [
    "oc = pd.read_csv(\"original_complete/metadata.tsv\", sep=\"\\t\", dtype=\"string\")\n",
    "oc.head()"
   ],
   "metadata": {
    "collapsed": false,
    "ExecuteTime": {
     "end_time": "2025-02-16T17:22:58.756226634Z",
     "start_time": "2025-02-16T17:22:58.702085396Z"
    }
   },
   "id": "ef4d8224367091a0",
   "execution_count": 31
  },
  {
   "cell_type": "code",
   "outputs": [],
   "source": [
    "merge = pd.merge(oc, aligned_copy, left_on=\"movementNumber\", right_on=\"chorale\", how=\"outer\").drop(columns=\"chorale\")\n",
    "merge.to_csv(\"original_complete/metadata.tsv\", sep=\"\\t\", index=False)"
   ],
   "metadata": {
    "collapsed": false,
    "ExecuteTime": {
     "end_time": "2025-02-16T17:23:21.958140885Z",
     "start_time": "2025-02-16T17:23:21.917778172Z"
    }
   },
   "id": "3b169a9fdf25193d",
   "execution_count": 32
  },
  {
   "cell_type": "code",
   "outputs": [
    {
     "data": {
      "text/plain": "305"
     },
     "execution_count": 33,
     "metadata": {},
     "output_type": "execute_result"
    }
   ],
   "source": [
    "merge.spotify.notna().sum()"
   ],
   "metadata": {
    "collapsed": false,
    "ExecuteTime": {
     "end_time": "2025-02-16T17:23:31.987997547Z",
     "start_time": "2025-02-16T17:23:31.984505930Z"
    }
   },
   "id": "96ff0ae34eb6b983",
   "execution_count": 33
  }
 ],
 "metadata": {
  "kernelspec": {
   "display_name": "Python 3",
   "language": "python",
   "name": "python3"
  },
  "language_info": {
   "codemirror_mode": {
    "name": "ipython",
    "version": 2
   },
   "file_extension": ".py",
   "mimetype": "text/x-python",
   "name": "python",
   "nbconvert_exporter": "python",
   "pygments_lexer": "ipython2",
   "version": "2.7.6"
  }
 },
 "nbformat": 4,
 "nbformat_minor": 5
}
